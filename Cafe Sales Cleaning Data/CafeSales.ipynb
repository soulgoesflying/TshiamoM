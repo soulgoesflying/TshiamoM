{
 "cells": [
  {
   "cell_type": "code",
   "execution_count": 1293,
   "id": "56fb4cc0-8091-4a3c-ad2d-8e1fc0a9b92f",
   "metadata": {},
   "outputs": [],
   "source": [
    "import pandas as pd"
   ]
  },
  {
   "cell_type": "code",
   "execution_count": 1295,
   "id": "ebecde49-c4f2-4427-9a66-306c4ab46463",
   "metadata": {},
   "outputs": [],
   "source": [
    "df = pd.read_csv('dirty_cafe_sales.csv')"
   ]
  },
  {
   "cell_type": "code",
   "execution_count": 1297,
   "id": "9309f3be-2798-4840-b49a-edebdae9b1aa",
   "metadata": {},
   "outputs": [
    {
     "data": {
      "text/html": [
       "<div>\n",
       "<style scoped>\n",
       "    .dataframe tbody tr th:only-of-type {\n",
       "        vertical-align: middle;\n",
       "    }\n",
       "\n",
       "    .dataframe tbody tr th {\n",
       "        vertical-align: top;\n",
       "    }\n",
       "\n",
       "    .dataframe thead th {\n",
       "        text-align: right;\n",
       "    }\n",
       "</style>\n",
       "<table border=\"1\" class=\"dataframe\">\n",
       "  <thead>\n",
       "    <tr style=\"text-align: right;\">\n",
       "      <th></th>\n",
       "      <th>Transaction ID</th>\n",
       "      <th>Item</th>\n",
       "      <th>Quantity</th>\n",
       "      <th>Price Per Unit</th>\n",
       "      <th>Total Spent</th>\n",
       "      <th>Payment Method</th>\n",
       "      <th>Location</th>\n",
       "      <th>Transaction Date</th>\n",
       "    </tr>\n",
       "  </thead>\n",
       "  <tbody>\n",
       "    <tr>\n",
       "      <th>0</th>\n",
       "      <td>TXN_1961373</td>\n",
       "      <td>Coffee</td>\n",
       "      <td>2</td>\n",
       "      <td>2.0</td>\n",
       "      <td>4.0</td>\n",
       "      <td>Credit Card</td>\n",
       "      <td>Takeaway</td>\n",
       "      <td>2023-09-08</td>\n",
       "    </tr>\n",
       "    <tr>\n",
       "      <th>1</th>\n",
       "      <td>TXN_4977031</td>\n",
       "      <td>Cake</td>\n",
       "      <td>4</td>\n",
       "      <td>3.0</td>\n",
       "      <td>12.0</td>\n",
       "      <td>Cash</td>\n",
       "      <td>In-store</td>\n",
       "      <td>2023-05-16</td>\n",
       "    </tr>\n",
       "    <tr>\n",
       "      <th>2</th>\n",
       "      <td>TXN_4271903</td>\n",
       "      <td>Cookie</td>\n",
       "      <td>4</td>\n",
       "      <td>1.0</td>\n",
       "      <td>ERROR</td>\n",
       "      <td>Credit Card</td>\n",
       "      <td>In-store</td>\n",
       "      <td>2023-07-19</td>\n",
       "    </tr>\n",
       "    <tr>\n",
       "      <th>3</th>\n",
       "      <td>TXN_7034554</td>\n",
       "      <td>Salad</td>\n",
       "      <td>2</td>\n",
       "      <td>5.0</td>\n",
       "      <td>10.0</td>\n",
       "      <td>UNKNOWN</td>\n",
       "      <td>UNKNOWN</td>\n",
       "      <td>2023-04-27</td>\n",
       "    </tr>\n",
       "    <tr>\n",
       "      <th>4</th>\n",
       "      <td>TXN_3160411</td>\n",
       "      <td>Coffee</td>\n",
       "      <td>2</td>\n",
       "      <td>2.0</td>\n",
       "      <td>4.0</td>\n",
       "      <td>Digital Wallet</td>\n",
       "      <td>In-store</td>\n",
       "      <td>2023-06-11</td>\n",
       "    </tr>\n",
       "  </tbody>\n",
       "</table>\n",
       "</div>"
      ],
      "text/plain": [
       "  Transaction ID    Item Quantity Price Per Unit Total Spent  Payment Method  \\\n",
       "0    TXN_1961373  Coffee        2            2.0         4.0     Credit Card   \n",
       "1    TXN_4977031    Cake        4            3.0        12.0            Cash   \n",
       "2    TXN_4271903  Cookie        4            1.0       ERROR     Credit Card   \n",
       "3    TXN_7034554   Salad        2            5.0        10.0         UNKNOWN   \n",
       "4    TXN_3160411  Coffee        2            2.0         4.0  Digital Wallet   \n",
       "\n",
       "   Location Transaction Date  \n",
       "0  Takeaway       2023-09-08  \n",
       "1  In-store       2023-05-16  \n",
       "2  In-store       2023-07-19  \n",
       "3   UNKNOWN       2023-04-27  \n",
       "4  In-store       2023-06-11  "
      ]
     },
     "execution_count": 1297,
     "metadata": {},
     "output_type": "execute_result"
    }
   ],
   "source": [
    "df.head()"
   ]
  },
  {
   "cell_type": "code",
   "execution_count": 1231,
   "id": "84f80820-e1b3-401c-a258-ed984184cb87",
   "metadata": {},
   "outputs": [
    {
     "data": {
      "text/plain": [
       "(10000, 8)"
      ]
     },
     "execution_count": 1231,
     "metadata": {},
     "output_type": "execute_result"
    }
   ],
   "source": [
    "df.shape"
   ]
  },
  {
   "cell_type": "code",
   "execution_count": 1232,
   "id": "6e934bc7-c951-4df1-9a30-978f3c652629",
   "metadata": {},
   "outputs": [
    {
     "data": {
      "text/plain": [
       "Transaction ID      object\n",
       "Item                object\n",
       "Quantity            object\n",
       "Price Per Unit      object\n",
       "Total Spent         object\n",
       "Payment Method      object\n",
       "Location            object\n",
       "Transaction Date    object\n",
       "dtype: object"
      ]
     },
     "execution_count": 1232,
     "metadata": {},
     "output_type": "execute_result"
    }
   ],
   "source": [
    "df.dtypes"
   ]
  },
  {
   "cell_type": "code",
   "execution_count": 1233,
   "id": "1dac9b73-91b2-4a2e-8fdf-2595667b6361",
   "metadata": {},
   "outputs": [
    {
     "data": {
      "text/plain": [
       "Transaction ID              object\n",
       "Item                        object\n",
       "Quantity                   float64\n",
       "Price Per Unit             float64\n",
       "Total Spent                float64\n",
       "Payment Method              object\n",
       "Location                    object\n",
       "Transaction Date    datetime64[ns]\n",
       "dtype: object"
      ]
     },
     "execution_count": 1233,
     "metadata": {},
     "output_type": "execute_result"
    }
   ],
   "source": [
    "df['Quantity'] = pd.to_numeric(df['Quantity'], errors='coerce')\n",
    "df['Price Per Unit'] = pd.to_numeric(df['Price Per Unit'], errors='coerce')\n",
    "df['Total Spent'] = pd.to_numeric(df['Total Spent'], errors='coerce')\n",
    "df['Transaction Date'] = pd.to_datetime(df['Transaction Date'], errors='coerce')\n",
    "df.dtypes"
   ]
  },
  {
   "cell_type": "code",
   "execution_count": 1234,
   "id": "50895ace-4fee-4550-a39a-157902bffd94",
   "metadata": {},
   "outputs": [
    {
     "data": {
      "text/plain": [
       "Transaction ID         0\n",
       "Item                 333\n",
       "Quantity             479\n",
       "Price Per Unit       533\n",
       "Total Spent          502\n",
       "Payment Method      2579\n",
       "Location            3265\n",
       "Transaction Date     460\n",
       "dtype: int64"
      ]
     },
     "execution_count": 1234,
     "metadata": {},
     "output_type": "execute_result"
    }
   ],
   "source": [
    "df.isnull().sum()"
   ]
  },
  {
   "cell_type": "code",
   "execution_count": 1239,
   "id": "83c2a9b7-43ba-44fd-8f52-c40866266804",
   "metadata": {},
   "outputs": [
    {
     "data": {
      "text/html": [
       "<div>\n",
       "<style scoped>\n",
       "    .dataframe tbody tr th:only-of-type {\n",
       "        vertical-align: middle;\n",
       "    }\n",
       "\n",
       "    .dataframe tbody tr th {\n",
       "        vertical-align: top;\n",
       "    }\n",
       "\n",
       "    .dataframe thead th {\n",
       "        text-align: right;\n",
       "    }\n",
       "</style>\n",
       "<table border=\"1\" class=\"dataframe\">\n",
       "  <thead>\n",
       "    <tr style=\"text-align: right;\">\n",
       "      <th></th>\n",
       "      <th>Transaction ID</th>\n",
       "      <th>Item</th>\n",
       "      <th>Quantity</th>\n",
       "      <th>Price Per Unit</th>\n",
       "      <th>Total Spent</th>\n",
       "      <th>Payment Method</th>\n",
       "      <th>Location</th>\n",
       "      <th>Transaction Date</th>\n",
       "    </tr>\n",
       "  </thead>\n",
       "  <tbody>\n",
       "    <tr>\n",
       "      <th>count</th>\n",
       "      <td>10000</td>\n",
       "      <td>9667</td>\n",
       "      <td>9521.000000</td>\n",
       "      <td>9467.000000</td>\n",
       "      <td>9498.000000</td>\n",
       "      <td>7421</td>\n",
       "      <td>6735</td>\n",
       "      <td>9540</td>\n",
       "    </tr>\n",
       "    <tr>\n",
       "      <th>unique</th>\n",
       "      <td>10000</td>\n",
       "      <td>10</td>\n",
       "      <td>NaN</td>\n",
       "      <td>NaN</td>\n",
       "      <td>NaN</td>\n",
       "      <td>5</td>\n",
       "      <td>4</td>\n",
       "      <td>NaN</td>\n",
       "    </tr>\n",
       "    <tr>\n",
       "      <th>top</th>\n",
       "      <td>TXN_1961373</td>\n",
       "      <td>Juice</td>\n",
       "      <td>NaN</td>\n",
       "      <td>NaN</td>\n",
       "      <td>NaN</td>\n",
       "      <td>Digital Wallet</td>\n",
       "      <td>Takeaway</td>\n",
       "      <td>NaN</td>\n",
       "    </tr>\n",
       "    <tr>\n",
       "      <th>freq</th>\n",
       "      <td>1</td>\n",
       "      <td>1171</td>\n",
       "      <td>NaN</td>\n",
       "      <td>NaN</td>\n",
       "      <td>NaN</td>\n",
       "      <td>2291</td>\n",
       "      <td>3022</td>\n",
       "      <td>NaN</td>\n",
       "    </tr>\n",
       "    <tr>\n",
       "      <th>mean</th>\n",
       "      <td>NaN</td>\n",
       "      <td>NaN</td>\n",
       "      <td>3.028463</td>\n",
       "      <td>2.949984</td>\n",
       "      <td>8.924352</td>\n",
       "      <td>NaN</td>\n",
       "      <td>NaN</td>\n",
       "      <td>2023-07-01 23:00:31.698113280</td>\n",
       "    </tr>\n",
       "    <tr>\n",
       "      <th>min</th>\n",
       "      <td>NaN</td>\n",
       "      <td>NaN</td>\n",
       "      <td>1.000000</td>\n",
       "      <td>1.000000</td>\n",
       "      <td>1.000000</td>\n",
       "      <td>NaN</td>\n",
       "      <td>NaN</td>\n",
       "      <td>2023-01-01 00:00:00</td>\n",
       "    </tr>\n",
       "    <tr>\n",
       "      <th>25%</th>\n",
       "      <td>NaN</td>\n",
       "      <td>NaN</td>\n",
       "      <td>2.000000</td>\n",
       "      <td>2.000000</td>\n",
       "      <td>4.000000</td>\n",
       "      <td>NaN</td>\n",
       "      <td>NaN</td>\n",
       "      <td>2023-04-01 00:00:00</td>\n",
       "    </tr>\n",
       "    <tr>\n",
       "      <th>50%</th>\n",
       "      <td>NaN</td>\n",
       "      <td>NaN</td>\n",
       "      <td>3.000000</td>\n",
       "      <td>3.000000</td>\n",
       "      <td>8.000000</td>\n",
       "      <td>NaN</td>\n",
       "      <td>NaN</td>\n",
       "      <td>2023-07-02 00:00:00</td>\n",
       "    </tr>\n",
       "    <tr>\n",
       "      <th>75%</th>\n",
       "      <td>NaN</td>\n",
       "      <td>NaN</td>\n",
       "      <td>4.000000</td>\n",
       "      <td>4.000000</td>\n",
       "      <td>12.000000</td>\n",
       "      <td>NaN</td>\n",
       "      <td>NaN</td>\n",
       "      <td>2023-10-02 00:00:00</td>\n",
       "    </tr>\n",
       "    <tr>\n",
       "      <th>max</th>\n",
       "      <td>NaN</td>\n",
       "      <td>NaN</td>\n",
       "      <td>5.000000</td>\n",
       "      <td>5.000000</td>\n",
       "      <td>25.000000</td>\n",
       "      <td>NaN</td>\n",
       "      <td>NaN</td>\n",
       "      <td>2023-12-31 00:00:00</td>\n",
       "    </tr>\n",
       "    <tr>\n",
       "      <th>std</th>\n",
       "      <td>NaN</td>\n",
       "      <td>NaN</td>\n",
       "      <td>1.419007</td>\n",
       "      <td>1.278450</td>\n",
       "      <td>6.009919</td>\n",
       "      <td>NaN</td>\n",
       "      <td>NaN</td>\n",
       "      <td>NaN</td>\n",
       "    </tr>\n",
       "  </tbody>\n",
       "</table>\n",
       "</div>"
      ],
      "text/plain": [
       "       Transaction ID   Item     Quantity  Price Per Unit  Total Spent  \\\n",
       "count           10000   9667  9521.000000     9467.000000  9498.000000   \n",
       "unique          10000     10          NaN             NaN          NaN   \n",
       "top       TXN_1961373  Juice          NaN             NaN          NaN   \n",
       "freq                1   1171          NaN             NaN          NaN   \n",
       "mean              NaN    NaN     3.028463        2.949984     8.924352   \n",
       "min               NaN    NaN     1.000000        1.000000     1.000000   \n",
       "25%               NaN    NaN     2.000000        2.000000     4.000000   \n",
       "50%               NaN    NaN     3.000000        3.000000     8.000000   \n",
       "75%               NaN    NaN     4.000000        4.000000    12.000000   \n",
       "max               NaN    NaN     5.000000        5.000000    25.000000   \n",
       "std               NaN    NaN     1.419007        1.278450     6.009919   \n",
       "\n",
       "        Payment Method  Location               Transaction Date  \n",
       "count             7421      6735                           9540  \n",
       "unique               5         4                            NaN  \n",
       "top     Digital Wallet  Takeaway                            NaN  \n",
       "freq              2291      3022                            NaN  \n",
       "mean               NaN       NaN  2023-07-01 23:00:31.698113280  \n",
       "min                NaN       NaN            2023-01-01 00:00:00  \n",
       "25%                NaN       NaN            2023-04-01 00:00:00  \n",
       "50%                NaN       NaN            2023-07-02 00:00:00  \n",
       "75%                NaN       NaN            2023-10-02 00:00:00  \n",
       "max                NaN       NaN            2023-12-31 00:00:00  \n",
       "std                NaN       NaN                            NaN  "
      ]
     },
     "execution_count": 1239,
     "metadata": {},
     "output_type": "execute_result"
    }
   ],
   "source": [
    "df.nunique()\n",
    "df.describe(include='all')\n"
   ]
  },
  {
   "cell_type": "code",
   "execution_count": 1240,
   "id": "161696cb-2a39-4e9b-8b74-89c06cd4c071",
   "metadata": {},
   "outputs": [
    {
     "data": {
      "text/plain": [
       "0       False\n",
       "1       False\n",
       "2       False\n",
       "3       False\n",
       "4       False\n",
       "        ...  \n",
       "9995    False\n",
       "9996    False\n",
       "9997    False\n",
       "9998    False\n",
       "9999    False\n",
       "Length: 10000, dtype: bool"
      ]
     },
     "execution_count": 1240,
     "metadata": {},
     "output_type": "execute_result"
    }
   ],
   "source": [
    "df.duplicated()"
   ]
  },
  {
   "cell_type": "code",
   "execution_count": 1243,
   "id": "ceedf744-8523-425a-a518-999fa099e5a7",
   "metadata": {},
   "outputs": [
    {
     "name": "stdout",
     "output_type": "stream",
     "text": [
      "<class 'pandas.core.frame.DataFrame'>\n",
      "RangeIndex: 10000 entries, 0 to 9999\n",
      "Data columns (total 8 columns):\n",
      " #   Column            Non-Null Count  Dtype         \n",
      "---  ------            --------------  -----         \n",
      " 0   Transaction ID    10000 non-null  object        \n",
      " 1   Item              9667 non-null   object        \n",
      " 2   Quantity          9521 non-null   float64       \n",
      " 3   Price Per Unit    9467 non-null   float64       \n",
      " 4   Total Spent       9498 non-null   float64       \n",
      " 5   Payment Method    7421 non-null   object        \n",
      " 6   Location          6735 non-null   object        \n",
      " 7   Transaction Date  9540 non-null   datetime64[ns]\n",
      "dtypes: datetime64[ns](1), float64(3), object(4)\n",
      "memory usage: 625.1+ KB\n"
     ]
    }
   ],
   "source": [
    "df.info()"
   ]
  },
  {
   "cell_type": "code",
   "execution_count": 1245,
   "id": "f269fa7f-44de-4c28-9fc2-a70d84760807",
   "metadata": {},
   "outputs": [
    {
     "name": "stdout",
     "output_type": "stream",
     "text": [
      "Categorical columns : ['Transaction ID', 'Item', 'Payment Method', 'Location']\n",
      "Numerical columns : ['Quantity', 'Price Per Unit', 'Total Spent', 'Transaction Date']\n"
     ]
    }
   ],
   "source": [
    "# Categorical columns\n",
    "cat_col = [col for col in df.columns if df[col].dtype == 'object']\n",
    "print('Categorical columns :',cat_col)\n",
    "\n",
    "# Numerical columns\n",
    "num_col = [col for col in df.columns if df[col].dtype != 'object']\n",
    "print('Numerical columns :',num_col)"
   ]
  },
  {
   "cell_type": "code",
   "execution_count": 1247,
   "id": "81730967-9790-468d-a771-993cc6c09b39",
   "metadata": {},
   "outputs": [
    {
     "data": {
      "text/plain": [
       "Transaction ID    10000\n",
       "Item                 10\n",
       "Payment Method        5\n",
       "Location              4\n",
       "dtype: int64"
      ]
     },
     "execution_count": 1247,
     "metadata": {},
     "output_type": "execute_result"
    }
   ],
   "source": [
    "df[cat_col].nunique()"
   ]
  },
  {
   "cell_type": "code",
   "execution_count": 1249,
   "id": "970417ca-19fe-4f86-a8a3-1cd5961666d9",
   "metadata": {},
   "outputs": [
    {
     "data": {
      "text/plain": [
       "Quantity              5\n",
       "Price Per Unit        6\n",
       "Total Spent          17\n",
       "Transaction Date    365\n",
       "dtype: int64"
      ]
     },
     "execution_count": 1249,
     "metadata": {},
     "output_type": "execute_result"
    }
   ],
   "source": [
    "df[num_col].nunique()"
   ]
  },
  {
   "cell_type": "code",
   "execution_count": 1251,
   "id": "60f27dc2-ad64-4cc4-b515-c9803fe2d208",
   "metadata": {},
   "outputs": [
    {
     "data": {
      "text/plain": [
       "Item\n",
       "Juice       1171\n",
       "Coffee      1165\n",
       "Salad       1148\n",
       "Cake        1139\n",
       "Sandwich    1131\n",
       "Smoothie    1096\n",
       "Cookie      1092\n",
       "Tea         1089\n",
       "UNKNOWN      344\n",
       "ERROR        292\n",
       "Name: count, dtype: int64"
      ]
     },
     "execution_count": 1251,
     "metadata": {},
     "output_type": "execute_result"
    }
   ],
   "source": [
    "df['Item'].value_counts()\n"
   ]
  },
  {
   "cell_type": "code",
   "execution_count": 1253,
   "id": "7fef1ff4-2dbd-472a-8467-65158bdddbc6",
   "metadata": {},
   "outputs": [
    {
     "data": {
      "text/plain": [
       "Quantity\n",
       "5.0    2013\n",
       "2.0    1974\n",
       "4.0    1863\n",
       "3.0    1849\n",
       "1.0    1822\n",
       "Name: count, dtype: int64"
      ]
     },
     "execution_count": 1253,
     "metadata": {},
     "output_type": "execute_result"
    }
   ],
   "source": [
    "df['Quantity'].value_counts()\n"
   ]
  },
  {
   "cell_type": "code",
   "execution_count": 1255,
   "id": "81760d11-c841-4d95-b55c-6d915224bb14",
   "metadata": {},
   "outputs": [
    {
     "data": {
      "text/html": [
       "<div>\n",
       "<style scoped>\n",
       "    .dataframe tbody tr th:only-of-type {\n",
       "        vertical-align: middle;\n",
       "    }\n",
       "\n",
       "    .dataframe tbody tr th {\n",
       "        vertical-align: top;\n",
       "    }\n",
       "\n",
       "    .dataframe thead th {\n",
       "        text-align: right;\n",
       "    }\n",
       "</style>\n",
       "<table border=\"1\" class=\"dataframe\">\n",
       "  <thead>\n",
       "    <tr style=\"text-align: right;\">\n",
       "      <th></th>\n",
       "      <th>Transaction ID</th>\n",
       "      <th>Item</th>\n",
       "      <th>Quantity</th>\n",
       "      <th>Price Per Unit</th>\n",
       "      <th>Total Spent</th>\n",
       "      <th>Payment Method</th>\n",
       "      <th>Location</th>\n",
       "      <th>Transaction Date</th>\n",
       "    </tr>\n",
       "  </thead>\n",
       "  <tbody>\n",
       "    <tr>\n",
       "      <th>6</th>\n",
       "      <td>TXN_4433211</td>\n",
       "      <td>UNKNOWN</td>\n",
       "      <td>3.0</td>\n",
       "      <td>3.0</td>\n",
       "      <td>9.0</td>\n",
       "      <td>ERROR</td>\n",
       "      <td>Takeaway</td>\n",
       "      <td>2023-10-06</td>\n",
       "    </tr>\n",
       "    <tr>\n",
       "      <th>14</th>\n",
       "      <td>TXN_8915701</td>\n",
       "      <td>ERROR</td>\n",
       "      <td>2.0</td>\n",
       "      <td>1.5</td>\n",
       "      <td>3.0</td>\n",
       "      <td>NaN</td>\n",
       "      <td>In-store</td>\n",
       "      <td>2023-03-21</td>\n",
       "    </tr>\n",
       "    <tr>\n",
       "      <th>31</th>\n",
       "      <td>TXN_8927252</td>\n",
       "      <td>UNKNOWN</td>\n",
       "      <td>2.0</td>\n",
       "      <td>1.0</td>\n",
       "      <td>NaN</td>\n",
       "      <td>Credit Card</td>\n",
       "      <td>ERROR</td>\n",
       "      <td>2023-11-06</td>\n",
       "    </tr>\n",
       "    <tr>\n",
       "      <th>33</th>\n",
       "      <td>TXN_7710508</td>\n",
       "      <td>UNKNOWN</td>\n",
       "      <td>5.0</td>\n",
       "      <td>1.0</td>\n",
       "      <td>5.0</td>\n",
       "      <td>Cash</td>\n",
       "      <td>NaN</td>\n",
       "      <td>NaT</td>\n",
       "    </tr>\n",
       "    <tr>\n",
       "      <th>36</th>\n",
       "      <td>TXN_6855453</td>\n",
       "      <td>UNKNOWN</td>\n",
       "      <td>4.0</td>\n",
       "      <td>3.0</td>\n",
       "      <td>12.0</td>\n",
       "      <td>NaN</td>\n",
       "      <td>In-store</td>\n",
       "      <td>2023-07-17</td>\n",
       "    </tr>\n",
       "    <tr>\n",
       "      <th>...</th>\n",
       "      <td>...</td>\n",
       "      <td>...</td>\n",
       "      <td>...</td>\n",
       "      <td>...</td>\n",
       "      <td>...</td>\n",
       "      <td>...</td>\n",
       "      <td>...</td>\n",
       "      <td>...</td>\n",
       "    </tr>\n",
       "    <tr>\n",
       "      <th>9946</th>\n",
       "      <td>TXN_8807600</td>\n",
       "      <td>UNKNOWN</td>\n",
       "      <td>1.0</td>\n",
       "      <td>4.0</td>\n",
       "      <td>4.0</td>\n",
       "      <td>Cash</td>\n",
       "      <td>Takeaway</td>\n",
       "      <td>2023-09-24</td>\n",
       "    </tr>\n",
       "    <tr>\n",
       "      <th>9951</th>\n",
       "      <td>TXN_4122925</td>\n",
       "      <td>ERROR</td>\n",
       "      <td>4.0</td>\n",
       "      <td>1.0</td>\n",
       "      <td>4.0</td>\n",
       "      <td>NaN</td>\n",
       "      <td>Takeaway</td>\n",
       "      <td>2023-10-20</td>\n",
       "    </tr>\n",
       "    <tr>\n",
       "      <th>9958</th>\n",
       "      <td>TXN_4125474</td>\n",
       "      <td>ERROR</td>\n",
       "      <td>2.0</td>\n",
       "      <td>5.0</td>\n",
       "      <td>10.0</td>\n",
       "      <td>Credit Card</td>\n",
       "      <td>In-store</td>\n",
       "      <td>2023-08-02</td>\n",
       "    </tr>\n",
       "    <tr>\n",
       "      <th>9981</th>\n",
       "      <td>TXN_4583012</td>\n",
       "      <td>ERROR</td>\n",
       "      <td>5.0</td>\n",
       "      <td>4.0</td>\n",
       "      <td>20.0</td>\n",
       "      <td>Digital Wallet</td>\n",
       "      <td>NaN</td>\n",
       "      <td>2023-02-27</td>\n",
       "    </tr>\n",
       "    <tr>\n",
       "      <th>9994</th>\n",
       "      <td>TXN_7851634</td>\n",
       "      <td>UNKNOWN</td>\n",
       "      <td>4.0</td>\n",
       "      <td>4.0</td>\n",
       "      <td>16.0</td>\n",
       "      <td>NaN</td>\n",
       "      <td>NaN</td>\n",
       "      <td>2023-01-08</td>\n",
       "    </tr>\n",
       "  </tbody>\n",
       "</table>\n",
       "<p>636 rows × 8 columns</p>\n",
       "</div>"
      ],
      "text/plain": [
       "     Transaction ID     Item  Quantity  Price Per Unit  Total Spent  \\\n",
       "6       TXN_4433211  UNKNOWN       3.0             3.0          9.0   \n",
       "14      TXN_8915701    ERROR       2.0             1.5          3.0   \n",
       "31      TXN_8927252  UNKNOWN       2.0             1.0          NaN   \n",
       "33      TXN_7710508  UNKNOWN       5.0             1.0          5.0   \n",
       "36      TXN_6855453  UNKNOWN       4.0             3.0         12.0   \n",
       "...             ...      ...       ...             ...          ...   \n",
       "9946    TXN_8807600  UNKNOWN       1.0             4.0          4.0   \n",
       "9951    TXN_4122925    ERROR       4.0             1.0          4.0   \n",
       "9958    TXN_4125474    ERROR       2.0             5.0         10.0   \n",
       "9981    TXN_4583012    ERROR       5.0             4.0         20.0   \n",
       "9994    TXN_7851634  UNKNOWN       4.0             4.0         16.0   \n",
       "\n",
       "      Payment Method  Location Transaction Date  \n",
       "6              ERROR  Takeaway       2023-10-06  \n",
       "14               NaN  In-store       2023-03-21  \n",
       "31       Credit Card     ERROR       2023-11-06  \n",
       "33              Cash       NaN              NaT  \n",
       "36               NaN  In-store       2023-07-17  \n",
       "...              ...       ...              ...  \n",
       "9946            Cash  Takeaway       2023-09-24  \n",
       "9951             NaN  Takeaway       2023-10-20  \n",
       "9958     Credit Card  In-store       2023-08-02  \n",
       "9981  Digital Wallet       NaN       2023-02-27  \n",
       "9994             NaN       NaN       2023-01-08  \n",
       "\n",
       "[636 rows x 8 columns]"
      ]
     },
     "execution_count": 1255,
     "metadata": {},
     "output_type": "execute_result"
    }
   ],
   "source": [
    "invalid_items = ['UNKNOWN', 'ERROR']\n",
    "invalid_df = df[df['Item'].isin(invalid_items)]\n",
    "invalid_df"
   ]
  },
  {
   "cell_type": "code",
   "execution_count": 1257,
   "id": "e703869c-466b-48d8-9373-605d812370eb",
   "metadata": {},
   "outputs": [],
   "source": [
    "menu_price_map = {\n",
    "    2.0: \"Coffee\",\n",
    "    1.5: \"Tea\",\n",
    "    4.0: \"Sandwich\",  # or Smoothie\n",
    "    5.0: \"Salad\",\n",
    "    3.0: \"Cake\",      # or Juice\n",
    "    1.0: \"Cookie\"\n",
    "}"
   ]
  },
  {
   "cell_type": "code",
   "execution_count": 1258,
   "id": "44b6a250-f3af-42f1-99bb-6730fcb9dcd1",
   "metadata": {},
   "outputs": [],
   "source": [
    "condition = df['Item'].isin(['UNKNOWN', 'ERROR','NaN']) & df['Price Per Unit'].isin(menu_price_map.keys())\n",
    "df.loc[condition, 'Item'] = df.loc[condition, 'Price Per Unit'].map(menu_price_map)"
   ]
  },
  {
   "cell_type": "code",
   "execution_count": 1261,
   "id": "2fb9f8e8-fcdc-48e0-8625-e74d0d582b2d",
   "metadata": {},
   "outputs": [],
   "source": [
    "df = df[~(\n",
    "    (df['Item'].isin(['UNKNOWN', 'ERROR']) | df['Item'].isna()) &\n",
    "    (df['Price Per Unit'].isin(['UNKNOWN', 'ERROR']) | df['Price Per Unit'].isna()) &\n",
    "    (df['Total Spent'].isin(['UNKNOWN', 'ERROR']) | df['Total Spent'].isna()) &\n",
    "    (df['Payment Method'].isin(['UNKNOWN', 'ERROR']) | df['Payment Method'].isna())\n",
    ")]\n",
    "\n"
   ]
  },
  {
   "cell_type": "code",
   "execution_count": 1263,
   "id": "45fc2540-e68d-497a-adb0-2b98ef57e4de",
   "metadata": {},
   "outputs": [],
   "source": [
    "mask = df['Price Per Unit'].isna() & df['Total Spent'].notna() & df['Quantity'].notna()\n",
    "df.loc[mask, 'Price Per Unit'] = df.loc[mask, 'Total Spent'] / df.loc[mask, 'Quantity']"
   ]
  },
  {
   "cell_type": "code",
   "execution_count": 1265,
   "id": "2b5e18bc-fc43-4623-b7df-599798ee7ef8",
   "metadata": {},
   "outputs": [],
   "source": [
    "item_mask = df['Item'].isin(['UNKNOWN', 'ERROR']) | df['Item'].isna()\n",
    "df.loc[item_mask, 'Price Per Unit'] = pd.to_numeric(df.loc[item_mask, 'Price Per Unit'], errors='coerce')\n",
    "df.loc[item_mask, 'Item'] = df.loc[item_mask, 'Price Per Unit'].map(menu_price_map)"
   ]
  },
  {
   "cell_type": "code",
   "execution_count": 1267,
   "id": "ce3f014c-ef14-4052-abeb-fcbd017fe9b9",
   "metadata": {},
   "outputs": [],
   "source": [
    "missing_items = df[\n",
    "    df['Item'].isna() | df['Item'].isin(['UNKNOWN', 'ERROR'])\n",
    "]"
   ]
  },
  {
   "cell_type": "markdown",
   "id": "6de367ab-9308-4c24-9777-1a554eca0cd9",
   "metadata": {},
   "source": [
    "# There are too many Unknown values, so assuming that the ratio stays 1:1:1, I could evenly distribute the unknown values into Cash, Digital Wallet and Credit Card. \n",
    "\n",
    "# Another Assumption we can make is that there is a missing Entry ie: Debit Card and it too would follow the same trend. **"
   ]
  },
  {
   "cell_type": "code",
   "execution_count": 1270,
   "id": "3c61cc39-8c50-4a32-9a20-8f37c0821880",
   "metadata": {},
   "outputs": [],
   "source": [
    "df['Payment Method'] = df['Payment Method'].fillna('Debit Card')"
   ]
  },
  {
   "cell_type": "code",
   "execution_count": 1272,
   "id": "7b833a40-42fb-4684-81d9-eeefafd4d3d2",
   "metadata": {},
   "outputs": [
    {
     "data": {
      "text/plain": [
       "Payment Method\n",
       "Debit Card        2578\n",
       "Digital Wallet    2291\n",
       "Credit Card       2273\n",
       "Cash              2258\n",
       "ERROR              305\n",
       "UNKNOWN            293\n",
       "Name: count, dtype: int64"
      ]
     },
     "execution_count": 1272,
     "metadata": {},
     "output_type": "execute_result"
    }
   ],
   "source": [
    "df['Payment Method'].value_counts()"
   ]
  },
  {
   "cell_type": "code",
   "execution_count": 1274,
   "id": "38a10625-e283-425c-982d-1cb3edc7e1cc",
   "metadata": {},
   "outputs": [],
   "source": [
    "df = df[~(\n",
    "    df['Item'].isna() | df['Item'].isin(['UNKNOWN', 'ERROR'])\n",
    ")]"
   ]
  },
  {
   "cell_type": "code",
   "execution_count": 1275,
   "id": "612ecf44-f959-4b01-8183-37419a04736c",
   "metadata": {},
   "outputs": [
    {
     "name": "stdout",
     "output_type": "stream",
     "text": [
      "      Total Spent  Price Per Unit  Quantity\n",
      "20           20.0             4.0       5.0\n",
      "55            2.0             1.0       2.0\n",
      "57            3.0             3.0       1.0\n",
      "66            6.0             3.0       2.0\n",
      "117           9.0             3.0       3.0\n",
      "...           ...             ...       ...\n",
      "9932          3.0             1.5       2.0\n",
      "9935          6.0             1.5       4.0\n",
      "9944         15.0             3.0       5.0\n",
      "9957          8.0             2.0       4.0\n",
      "9984          4.0             4.0       1.0\n",
      "\n",
      "[476 rows x 3 columns]\n"
     ]
    }
   ],
   "source": [
    "df['Quantity'] = pd.to_numeric(df['Quantity'], errors='coerce')  # convert to numeric, invalid become NaN\n",
    "\n",
    "# Now create a mask for rows where Quantity is NaN (missing or invalid)\n",
    "mask = df['Quantity'].isna()\n",
    "\n",
    "# Calculate Quantity for those rows\n",
    "df.loc[mask, 'Quantity'] = df.loc[mask, 'Total Spent'] / df.loc[mask, 'Price Per Unit']\n",
    "\n",
    "# Check the updated rows\n",
    "print(df.loc[mask, ['Total Spent', 'Price Per Unit', 'Quantity']])"
   ]
  },
  {
   "cell_type": "code",
   "execution_count": 1278,
   "id": "af6e9ebc-9ffc-4635-8056-f806261510a5",
   "metadata": {},
   "outputs": [
    {
     "data": {
      "text/html": [
       "<div>\n",
       "<style scoped>\n",
       "    .dataframe tbody tr th:only-of-type {\n",
       "        vertical-align: middle;\n",
       "    }\n",
       "\n",
       "    .dataframe tbody tr th {\n",
       "        vertical-align: top;\n",
       "    }\n",
       "\n",
       "    .dataframe thead th {\n",
       "        text-align: right;\n",
       "    }\n",
       "</style>\n",
       "<table border=\"1\" class=\"dataframe\">\n",
       "  <thead>\n",
       "    <tr style=\"text-align: right;\">\n",
       "      <th></th>\n",
       "      <th>Transaction ID</th>\n",
       "      <th>Item</th>\n",
       "      <th>Quantity</th>\n",
       "      <th>Price Per Unit</th>\n",
       "      <th>Total Spent</th>\n",
       "      <th>Payment Method</th>\n",
       "      <th>Location</th>\n",
       "      <th>Transaction Date</th>\n",
       "    </tr>\n",
       "  </thead>\n",
       "  <tbody>\n",
       "    <tr>\n",
       "      <th>236</th>\n",
       "      <td>TXN_8562645</td>\n",
       "      <td>Salad</td>\n",
       "      <td>NaN</td>\n",
       "      <td>5.0</td>\n",
       "      <td>NaN</td>\n",
       "      <td>Debit Card</td>\n",
       "      <td>In-store</td>\n",
       "      <td>2023-05-18</td>\n",
       "    </tr>\n",
       "    <tr>\n",
       "      <th>641</th>\n",
       "      <td>TXN_2962976</td>\n",
       "      <td>Juice</td>\n",
       "      <td>NaN</td>\n",
       "      <td>3.0</td>\n",
       "      <td>NaN</td>\n",
       "      <td>Debit Card</td>\n",
       "      <td>NaN</td>\n",
       "      <td>2023-03-17</td>\n",
       "    </tr>\n",
       "    <tr>\n",
       "      <th>738</th>\n",
       "      <td>TXN_8696094</td>\n",
       "      <td>Sandwich</td>\n",
       "      <td>NaN</td>\n",
       "      <td>4.0</td>\n",
       "      <td>NaN</td>\n",
       "      <td>Debit Card</td>\n",
       "      <td>Takeaway</td>\n",
       "      <td>2023-05-14</td>\n",
       "    </tr>\n",
       "    <tr>\n",
       "      <th>2330</th>\n",
       "      <td>TXN_3849488</td>\n",
       "      <td>Salad</td>\n",
       "      <td>NaN</td>\n",
       "      <td>NaN</td>\n",
       "      <td>5.0</td>\n",
       "      <td>Debit Card</td>\n",
       "      <td>In-store</td>\n",
       "      <td>2023-03-01</td>\n",
       "    </tr>\n",
       "    <tr>\n",
       "      <th>3224</th>\n",
       "      <td>TXN_6297232</td>\n",
       "      <td>Coffee</td>\n",
       "      <td>NaN</td>\n",
       "      <td>2.0</td>\n",
       "      <td>NaN</td>\n",
       "      <td>Debit Card</td>\n",
       "      <td>NaN</td>\n",
       "      <td>2023-04-07</td>\n",
       "    </tr>\n",
       "    <tr>\n",
       "      <th>6225</th>\n",
       "      <td>TXN_6859249</td>\n",
       "      <td>Cookie</td>\n",
       "      <td>NaN</td>\n",
       "      <td>NaN</td>\n",
       "      <td>2.0</td>\n",
       "      <td>Debit Card</td>\n",
       "      <td>UNKNOWN</td>\n",
       "      <td>NaT</td>\n",
       "    </tr>\n",
       "    <tr>\n",
       "      <th>8021</th>\n",
       "      <td>TXN_2428781</td>\n",
       "      <td>Salad</td>\n",
       "      <td>NaN</td>\n",
       "      <td>5.0</td>\n",
       "      <td>NaN</td>\n",
       "      <td>Debit Card</td>\n",
       "      <td>In-store</td>\n",
       "      <td>2023-05-09</td>\n",
       "    </tr>\n",
       "    <tr>\n",
       "      <th>8465</th>\n",
       "      <td>TXN_9669616</td>\n",
       "      <td>Coffee</td>\n",
       "      <td>NaN</td>\n",
       "      <td>2.0</td>\n",
       "      <td>NaN</td>\n",
       "      <td>Debit Card</td>\n",
       "      <td>ERROR</td>\n",
       "      <td>2023-06-03</td>\n",
       "    </tr>\n",
       "    <tr>\n",
       "      <th>8479</th>\n",
       "      <td>TXN_1547245</td>\n",
       "      <td>Sandwich</td>\n",
       "      <td>NaN</td>\n",
       "      <td>4.0</td>\n",
       "      <td>NaN</td>\n",
       "      <td>Debit Card</td>\n",
       "      <td>Takeaway</td>\n",
       "      <td>2023-09-11</td>\n",
       "    </tr>\n",
       "  </tbody>\n",
       "</table>\n",
       "</div>"
      ],
      "text/plain": [
       "     Transaction ID      Item  Quantity  Price Per Unit  Total Spent  \\\n",
       "236     TXN_8562645     Salad       NaN             5.0          NaN   \n",
       "641     TXN_2962976     Juice       NaN             3.0          NaN   \n",
       "738     TXN_8696094  Sandwich       NaN             4.0          NaN   \n",
       "2330    TXN_3849488     Salad       NaN             NaN          5.0   \n",
       "3224    TXN_6297232    Coffee       NaN             2.0          NaN   \n",
       "6225    TXN_6859249    Cookie       NaN             NaN          2.0   \n",
       "8021    TXN_2428781     Salad       NaN             5.0          NaN   \n",
       "8465    TXN_9669616    Coffee       NaN             2.0          NaN   \n",
       "8479    TXN_1547245  Sandwich       NaN             4.0          NaN   \n",
       "\n",
       "     Payment Method  Location Transaction Date  \n",
       "236      Debit Card  In-store       2023-05-18  \n",
       "641      Debit Card       NaN       2023-03-17  \n",
       "738      Debit Card  Takeaway       2023-05-14  \n",
       "2330     Debit Card  In-store       2023-03-01  \n",
       "3224     Debit Card       NaN       2023-04-07  \n",
       "6225     Debit Card   UNKNOWN              NaT  \n",
       "8021     Debit Card  In-store       2023-05-09  \n",
       "8465     Debit Card     ERROR       2023-06-03  \n",
       "8479     Debit Card  Takeaway       2023-09-11  "
      ]
     },
     "execution_count": 1278,
     "metadata": {},
     "output_type": "execute_result"
    }
   ],
   "source": [
    "df[\n",
    "    (\n",
    "        df['Quantity'].isna() | \n",
    "        df['Quantity'].isin(['UNKNOWN', 'ERROR'])\n",
    "    ) \n",
    "    & \n",
    "    df['Payment Method'].isin(['Debit Card'])\n",
    "]\n"
   ]
  },
  {
   "cell_type": "code",
   "execution_count": 1280,
   "id": "c3664a9f-0913-44d6-81bb-e55fc6a225dc",
   "metadata": {},
   "outputs": [],
   "source": [
    "mask = df['Transaction ID'] == 'TXN_3849488'\n",
    "df.loc[mask, ['Quantity', 'Price Per Unit']] = [1, 5]\n"
   ]
  },
  {
   "cell_type": "code",
   "execution_count": 1282,
   "id": "b706c622-dfea-4eec-b613-2a7b99499b1e",
   "metadata": {},
   "outputs": [],
   "source": [
    "mask = df['Transaction ID'] == 'TXN_6859249'\n",
    "df.loc[mask, ['Quantity', 'Price Per Unit']] = [2, 1]"
   ]
  },
  {
   "cell_type": "code",
   "execution_count": 1284,
   "id": "5988c1de-e7c3-4414-a2d6-bc4d81896259",
   "metadata": {},
   "outputs": [],
   "source": [
    "df = df[~\n",
    "    (\n",
    "        df['Quantity'].isna() | \n",
    "        df['Quantity'].isin(['UNKNOWN', 'ERROR'])\n",
    "    ) \n",
    "    & \n",
    "    df['Payment Method'].isin(['Debit Card'])\n",
    "    &\n",
    "    df['Total Spent'].isna()\n",
    "]"
   ]
  },
  {
   "cell_type": "code",
   "execution_count": 1286,
   "id": "2d890a84-60a0-4ba0-82a6-51dba65c6acb",
   "metadata": {},
   "outputs": [],
   "source": [
    "df['Location'] = df['Location'].replace('ERROR', 'UNKNOWN')"
   ]
  },
  {
   "cell_type": "code",
   "execution_count": 1291,
   "id": "05c6c2b6-315c-4d5e-a064-460959bf5d6f",
   "metadata": {},
   "outputs": [
    {
     "data": {
      "text/plain": [
       "(124, 8)"
      ]
     },
     "execution_count": 1291,
     "metadata": {},
     "output_type": "execute_result"
    }
   ],
   "source": [
    "df.shape"
   ]
  },
  {
   "cell_type": "code",
   "execution_count": null,
   "id": "ce3fc815-21b9-40e9-b544-89ef6c5a731d",
   "metadata": {},
   "outputs": [],
   "source": []
  },
  {
   "cell_type": "code",
   "execution_count": null,
   "id": "0d55b9d8-1f1f-4f25-aa91-83d5165fd6f0",
   "metadata": {},
   "outputs": [],
   "source": []
  }
 ],
 "metadata": {
  "kernelspec": {
   "display_name": "Python [conda env:base] *",
   "language": "python",
   "name": "conda-base-py"
  },
  "language_info": {
   "codemirror_mode": {
    "name": "ipython",
    "version": 3
   },
   "file_extension": ".py",
   "mimetype": "text/x-python",
   "name": "python",
   "nbconvert_exporter": "python",
   "pygments_lexer": "ipython3",
   "version": "3.12.7"
  }
 },
 "nbformat": 4,
 "nbformat_minor": 5
}
